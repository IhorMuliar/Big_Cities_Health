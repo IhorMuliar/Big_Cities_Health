{
 "cells": [
  {
   "cell_type": "code",
   "execution_count": 1,
   "metadata": {},
   "outputs": [],
   "source": [
    "%matplotlib inline\n",
    "\n",
    "import pandas as pd\n",
    "import matplotlib.pyplot as plt\n",
    "import numpy as np"
   ]
  },
  {
   "cell_type": "code",
   "execution_count": 2,
   "metadata": {},
   "outputs": [],
   "source": [
    "data = pd.read_csv('E:/Data Science/Projects/Data/Big_Cities_Health_Data_Inventory.csv')"
   ]
  },
  {
   "cell_type": "code",
   "execution_count": 3,
   "metadata": {},
   "outputs": [
    {
     "data": {
      "text/html": [
       "<div>\n",
       "<style scoped>\n",
       "    .dataframe tbody tr th:only-of-type {\n",
       "        vertical-align: middle;\n",
       "    }\n",
       "\n",
       "    .dataframe tbody tr th {\n",
       "        vertical-align: top;\n",
       "    }\n",
       "\n",
       "    .dataframe thead th {\n",
       "        text-align: right;\n",
       "    }\n",
       "</style>\n",
       "<table border=\"1\" class=\"dataframe\">\n",
       "  <thead>\n",
       "    <tr style=\"text-align: right;\">\n",
       "      <th></th>\n",
       "      <th>Indicator Category</th>\n",
       "      <th>Indicator</th>\n",
       "      <th>Year</th>\n",
       "      <th>Gender</th>\n",
       "      <th>Race/ Ethnicity</th>\n",
       "      <th>Value</th>\n",
       "      <th>Place</th>\n",
       "      <th>BCHC Requested Methodology</th>\n",
       "      <th>Source</th>\n",
       "      <th>Methods</th>\n",
       "      <th>Notes</th>\n",
       "    </tr>\n",
       "  </thead>\n",
       "  <tbody>\n",
       "    <tr>\n",
       "      <th>0</th>\n",
       "      <td>HIV/AIDS</td>\n",
       "      <td>AIDS Diagnoses Rate (Per 100,000 people)</td>\n",
       "      <td>2013</td>\n",
       "      <td>Both</td>\n",
       "      <td>All</td>\n",
       "      <td>30.4</td>\n",
       "      <td>Atlanta (Fulton County), GA</td>\n",
       "      <td>AIDS cases diagnosed in 2012, 2013, 2014 (as a...</td>\n",
       "      <td>Diagnoses numbers were obtained from the Georg...</td>\n",
       "      <td>NaN</td>\n",
       "      <td>NaN</td>\n",
       "    </tr>\n",
       "    <tr>\n",
       "      <th>1</th>\n",
       "      <td>HIV/AIDS</td>\n",
       "      <td>AIDS Diagnoses Rate (Per 100,000 people)</td>\n",
       "      <td>2012</td>\n",
       "      <td>Both</td>\n",
       "      <td>All</td>\n",
       "      <td>39.6</td>\n",
       "      <td>Atlanta (Fulton County), GA</td>\n",
       "      <td>AIDS cases diagnosed in 2012, 2013, 2014 (as a...</td>\n",
       "      <td>Diagnoses numbers were obtained from the Georg...</td>\n",
       "      <td>NaN</td>\n",
       "      <td>NaN</td>\n",
       "    </tr>\n",
       "    <tr>\n",
       "      <th>2</th>\n",
       "      <td>HIV/AIDS</td>\n",
       "      <td>AIDS Diagnoses Rate (Per 100,000 people)</td>\n",
       "      <td>2011</td>\n",
       "      <td>Both</td>\n",
       "      <td>All</td>\n",
       "      <td>41.7</td>\n",
       "      <td>Atlanta (Fulton County), GA</td>\n",
       "      <td>AIDS cases diagnosed in 2012, 2013, 2014 (as a...</td>\n",
       "      <td>Diagnoses numbers were obtained from the Georg...</td>\n",
       "      <td>NaN</td>\n",
       "      <td>NaN</td>\n",
       "    </tr>\n",
       "    <tr>\n",
       "      <th>3</th>\n",
       "      <td>Cancer</td>\n",
       "      <td>All Types of Cancer Mortality Rate (Age-Adjust...</td>\n",
       "      <td>2013</td>\n",
       "      <td>Male</td>\n",
       "      <td>All</td>\n",
       "      <td>195.8</td>\n",
       "      <td>Atlanta (Fulton County), GA</td>\n",
       "      <td>2012, 2013, 2014; per 100,000 population using...</td>\n",
       "      <td>National Center for Health Statistics (NCHS), CDC</td>\n",
       "      <td>NaN</td>\n",
       "      <td>NaN</td>\n",
       "    </tr>\n",
       "    <tr>\n",
       "      <th>4</th>\n",
       "      <td>Cancer</td>\n",
       "      <td>All Types of Cancer Mortality Rate (Age-Adjust...</td>\n",
       "      <td>2013</td>\n",
       "      <td>Female</td>\n",
       "      <td>All</td>\n",
       "      <td>135.5</td>\n",
       "      <td>Atlanta (Fulton County), GA</td>\n",
       "      <td>2012, 2013, 2014; per 100,000 population using...</td>\n",
       "      <td>National Center for Health Statistics (NCHS), CDC</td>\n",
       "      <td>NaN</td>\n",
       "      <td>NaN</td>\n",
       "    </tr>\n",
       "  </tbody>\n",
       "</table>\n",
       "</div>"
      ],
      "text/plain": [
       "  Indicator Category                                          Indicator  Year  \\\n",
       "0           HIV/AIDS           AIDS Diagnoses Rate (Per 100,000 people)  2013   \n",
       "1           HIV/AIDS           AIDS Diagnoses Rate (Per 100,000 people)  2012   \n",
       "2           HIV/AIDS           AIDS Diagnoses Rate (Per 100,000 people)  2011   \n",
       "3             Cancer  All Types of Cancer Mortality Rate (Age-Adjust...  2013   \n",
       "4             Cancer  All Types of Cancer Mortality Rate (Age-Adjust...  2013   \n",
       "\n",
       "   Gender Race/ Ethnicity  Value                        Place  \\\n",
       "0    Both             All   30.4  Atlanta (Fulton County), GA   \n",
       "1    Both             All   39.6  Atlanta (Fulton County), GA   \n",
       "2    Both             All   41.7  Atlanta (Fulton County), GA   \n",
       "3    Male             All  195.8  Atlanta (Fulton County), GA   \n",
       "4  Female             All  135.5  Atlanta (Fulton County), GA   \n",
       "\n",
       "                          BCHC Requested Methodology  \\\n",
       "0  AIDS cases diagnosed in 2012, 2013, 2014 (as a...   \n",
       "1  AIDS cases diagnosed in 2012, 2013, 2014 (as a...   \n",
       "2  AIDS cases diagnosed in 2012, 2013, 2014 (as a...   \n",
       "3  2012, 2013, 2014; per 100,000 population using...   \n",
       "4  2012, 2013, 2014; per 100,000 population using...   \n",
       "\n",
       "                                              Source Methods Notes  \n",
       "0  Diagnoses numbers were obtained from the Georg...     NaN   NaN  \n",
       "1  Diagnoses numbers were obtained from the Georg...     NaN   NaN  \n",
       "2  Diagnoses numbers were obtained from the Georg...     NaN   NaN  \n",
       "3  National Center for Health Statistics (NCHS), CDC     NaN   NaN  \n",
       "4  National Center for Health Statistics (NCHS), CDC     NaN   NaN  "
      ]
     },
     "execution_count": 3,
     "metadata": {},
     "output_type": "execute_result"
    }
   ],
   "source": [
    "data.head()"
   ]
  },
  {
   "cell_type": "markdown",
   "metadata": {},
   "source": [
    "# Working with missing values"
   ]
  },
  {
   "cell_type": "code",
   "execution_count": 4,
   "metadata": {},
   "outputs": [
    {
     "data": {
      "text/plain": [
       "Notes                         9971\n",
       "Methods                       9280\n",
       "Source                        2290\n",
       "BCHC Requested Methodology     508\n",
       "Value                           13\n",
       "dtype: int64"
      ]
     },
     "execution_count": 4,
     "metadata": {},
     "output_type": "execute_result"
    }
   ],
   "source": [
    "col_wth_na = [col for col in data.columns if data[col].isnull().any()] \n",
    "max_na = pd.Series([data[i].isnull().sum() for i in col_wth_na], index = col_wth_na)\n",
    "max_na.sort_values(ascending = False)"
   ]
  },
  {
   "cell_type": "markdown",
   "metadata": {},
   "source": [
    "## VALUE NA"
   ]
  },
  {
   "cell_type": "code",
   "execution_count": 5,
   "metadata": {
    "scrolled": false
   },
   "outputs": [
    {
     "data": {
      "text/plain": [
       "array(['Tobacco', 'Nutrition, Physical Activity, & Obesity',\n",
       "       'Behavioral Health/Substance Abuse', 'Demographics'], dtype=object)"
      ]
     },
     "execution_count": 5,
     "metadata": {},
     "output_type": "execute_result"
    }
   ],
   "source": [
    "data[data['Value'].isnull()]['Indicator Category'].unique()"
   ]
  },
  {
   "cell_type": "markdown",
   "metadata": {},
   "source": [
    "###### 1"
   ]
  },
  {
   "cell_type": "code",
   "execution_count": 6,
   "metadata": {},
   "outputs": [],
   "source": [
    "a = data.loc[data['Indicator Category'] == 'Tobacco']"
   ]
  },
  {
   "cell_type": "code",
   "execution_count": 7,
   "metadata": {},
   "outputs": [],
   "source": [
    "data.loc[data['Indicator Category'] == 'Tobacco'] = data.loc[data['Indicator Category'] == 'Tobacco'].fillna(a.loc[a['Indicator'] == 'Percent of Adults Who Currently Smoke']['Value'].mean())"
   ]
  },
  {
   "cell_type": "markdown",
   "metadata": {},
   "source": [
    "##### 2"
   ]
  },
  {
   "cell_type": "code",
   "execution_count": 8,
   "metadata": {},
   "outputs": [],
   "source": [
    "b = data.loc[data['Indicator Category'] == 'Demographics']"
   ]
  },
  {
   "cell_type": "code",
   "execution_count": 9,
   "metadata": {},
   "outputs": [],
   "source": [
    "data.loc[data['Indicator Category'] == 'Demographics'] = data.loc[data['Indicator Category'] == 'Demographics'].fillna(b.loc[b['Indicator'] == 'Race/Ethnicity']['Value'].mean())"
   ]
  },
  {
   "cell_type": "markdown",
   "metadata": {},
   "source": [
    "##### 3"
   ]
  },
  {
   "cell_type": "code",
   "execution_count": 10,
   "metadata": {},
   "outputs": [],
   "source": [
    "c = data.loc[data['Indicator Category'] == 'Behavioral Health/Substance Abuse']"
   ]
  },
  {
   "cell_type": "code",
   "execution_count": 11,
   "metadata": {},
   "outputs": [],
   "source": [
    "data.loc[data['Indicator Category'] == 'Behavioral Health/Substance Abuse'] = data.loc[data['Indicator Category'] == 'Behavioral Health/Substance Abuse'].fillna(c.loc[c['Indicator'] == 'Opioid-Related Mortality Rate (Age-Adjusted; Per 100,000 people) *These data should not be compared across cities as they have different definitions']['Value'].mean())"
   ]
  },
  {
   "cell_type": "markdown",
   "metadata": {},
   "source": [
    "#### 4"
   ]
  },
  {
   "cell_type": "code",
   "execution_count": 12,
   "metadata": {},
   "outputs": [],
   "source": [
    "d = data.loc[data['Indicator Category'] == 'Nutrition, Physical Activity, & Obesity']"
   ]
  },
  {
   "cell_type": "code",
   "execution_count": 13,
   "metadata": {},
   "outputs": [],
   "source": [
    "data.loc[data['Indicator Category'] == 'Nutrition, Physical Activity, & Obesity'] = data.loc[data['Indicator Category'] == 'Nutrition, Physical Activity, & Obesity'].fillna(d.loc[d['Indicator'] == 'Percent of Adults Who Meet CDC-Recommended Physical Activity Levels']['Value'].mean())"
   ]
  },
  {
   "cell_type": "markdown",
   "metadata": {},
   "source": [
    "### BCHC Requested Methodology NA "
   ]
  },
  {
   "cell_type": "code",
   "execution_count": 14,
   "metadata": {},
   "outputs": [],
   "source": [
    "data = data[data['BCHC Requested Methodology'].notnull()]"
   ]
  },
  {
   "cell_type": "markdown",
   "metadata": {},
   "source": [
    "### Source NA"
   ]
  },
  {
   "cell_type": "code",
   "execution_count": 15,
   "metadata": {},
   "outputs": [],
   "source": [
    "data = data.drop(['Source'],axis = 1)"
   ]
  },
  {
   "cell_type": "markdown",
   "metadata": {},
   "source": [
    "### Methods NA"
   ]
  },
  {
   "cell_type": "code",
   "execution_count": 16,
   "metadata": {},
   "outputs": [],
   "source": [
    "data = data.drop(['Methods'],axis = 1)"
   ]
  },
  {
   "cell_type": "markdown",
   "metadata": {},
   "source": [
    "### Notes NA"
   ]
  },
  {
   "cell_type": "code",
   "execution_count": 17,
   "metadata": {},
   "outputs": [],
   "source": [
    "data = data.drop(['Notes'],axis = 1)"
   ]
  },
  {
   "cell_type": "markdown",
   "metadata": {},
   "source": [
    "# Working with duplicates"
   ]
  },
  {
   "cell_type": "code",
   "execution_count": 18,
   "metadata": {},
   "outputs": [
    {
     "data": {
      "text/html": [
       "<div>\n",
       "<style scoped>\n",
       "    .dataframe tbody tr th:only-of-type {\n",
       "        vertical-align: middle;\n",
       "    }\n",
       "\n",
       "    .dataframe tbody tr th {\n",
       "        vertical-align: top;\n",
       "    }\n",
       "\n",
       "    .dataframe thead th {\n",
       "        text-align: right;\n",
       "    }\n",
       "</style>\n",
       "<table border=\"1\" class=\"dataframe\">\n",
       "  <thead>\n",
       "    <tr style=\"text-align: right;\">\n",
       "      <th></th>\n",
       "      <th>Indicator Category</th>\n",
       "      <th>Indicator</th>\n",
       "      <th>Year</th>\n",
       "      <th>Gender</th>\n",
       "      <th>Race/ Ethnicity</th>\n",
       "      <th>Value</th>\n",
       "      <th>Place</th>\n",
       "      <th>BCHC Requested Methodology</th>\n",
       "    </tr>\n",
       "  </thead>\n",
       "  <tbody>\n",
       "    <tr>\n",
       "      <th>10503</th>\n",
       "      <td>Injury and Violence</td>\n",
       "      <td>Suicide Rate  (Age-Adjusted; Per 100,000 people)</td>\n",
       "      <td>2010</td>\n",
       "      <td>Both</td>\n",
       "      <td>White</td>\n",
       "      <td>15.1</td>\n",
       "      <td>San Diego County, CA</td>\n",
       "      <td>2012, 2013, 2014; per 100,000 population using...</td>\n",
       "    </tr>\n",
       "    <tr>\n",
       "      <th>11530</th>\n",
       "      <td>Nutrition, Physical Activity, &amp; Obesity</td>\n",
       "      <td>Percent of High School Students Who Meet CDC-R...</td>\n",
       "      <td>2012</td>\n",
       "      <td>Both</td>\n",
       "      <td>Other</td>\n",
       "      <td>24.0</td>\n",
       "      <td>Seattle, WA</td>\n",
       "      <td>2012, 2013, 2014; YRBS/S (or similar) preferre...</td>\n",
       "    </tr>\n",
       "    <tr>\n",
       "      <th>11714</th>\n",
       "      <td>HIV/AIDS</td>\n",
       "      <td>AIDS Diagnoses Rate (Per 100,000 people)</td>\n",
       "      <td>2012</td>\n",
       "      <td>Both</td>\n",
       "      <td>All</td>\n",
       "      <td>8.9</td>\n",
       "      <td>U.S. Total</td>\n",
       "      <td>AIDS cases diagnosed in 2012, 2013, 2014 (as a...</td>\n",
       "    </tr>\n",
       "    <tr>\n",
       "      <th>12323</th>\n",
       "      <td>Demographics</td>\n",
       "      <td>Unemployment Rate Ages 16+</td>\n",
       "      <td>2013</td>\n",
       "      <td>Both</td>\n",
       "      <td>All</td>\n",
       "      <td>7.4</td>\n",
       "      <td>U.S. Total</td>\n",
       "      <td>14.1442</td>\n",
       "    </tr>\n",
       "  </tbody>\n",
       "</table>\n",
       "</div>"
      ],
      "text/plain": [
       "                            Indicator Category  \\\n",
       "10503                      Injury and Violence   \n",
       "11530  Nutrition, Physical Activity, & Obesity   \n",
       "11714                                 HIV/AIDS   \n",
       "12323                             Demographics   \n",
       "\n",
       "                                               Indicator  Year Gender  \\\n",
       "10503   Suicide Rate  (Age-Adjusted; Per 100,000 people)  2010   Both   \n",
       "11530  Percent of High School Students Who Meet CDC-R...  2012   Both   \n",
       "11714           AIDS Diagnoses Rate (Per 100,000 people)  2012   Both   \n",
       "12323                         Unemployment Rate Ages 16+  2013   Both   \n",
       "\n",
       "      Race/ Ethnicity  Value                 Place  \\\n",
       "10503           White   15.1  San Diego County, CA   \n",
       "11530           Other   24.0           Seattle, WA   \n",
       "11714             All    8.9            U.S. Total   \n",
       "12323             All    7.4            U.S. Total   \n",
       "\n",
       "                              BCHC Requested Methodology  \n",
       "10503  2012, 2013, 2014; per 100,000 population using...  \n",
       "11530  2012, 2013, 2014; YRBS/S (or similar) preferre...  \n",
       "11714  AIDS cases diagnosed in 2012, 2013, 2014 (as a...  \n",
       "12323                                            14.1442  "
      ]
     },
     "execution_count": 18,
     "metadata": {},
     "output_type": "execute_result"
    }
   ],
   "source": [
    "data[data.duplicated()]"
   ]
  },
  {
   "cell_type": "code",
   "execution_count": 19,
   "metadata": {},
   "outputs": [],
   "source": [
    "data = data.drop_duplicates()"
   ]
  }
 ],
 "metadata": {
  "kernelspec": {
   "display_name": "Python 3",
   "language": "python",
   "name": "python3"
  },
  "language_info": {
   "codemirror_mode": {
    "name": "ipython",
    "version": 3
   },
   "file_extension": ".py",
   "mimetype": "text/x-python",
   "name": "python",
   "nbconvert_exporter": "python",
   "pygments_lexer": "ipython3",
   "version": "3.8.3"
  }
 },
 "nbformat": 4,
 "nbformat_minor": 4
}
